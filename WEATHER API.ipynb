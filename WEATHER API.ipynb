{
 "cells": [
  {
   "cell_type": "code",
   "execution_count": 1,
   "metadata": {},
   "outputs": [],
   "source": [
    "import requests as req\n",
    "import json\n",
    "import pandas as pd"
   ]
  },
  {
   "cell_type": "code",
   "execution_count": 2,
   "metadata": {},
   "outputs": [
    {
     "data": {
      "text/plain": [
       "'http://api.openweathermap.org/data/2.5/weather?apikey=c703c966f9be8a0c4869b86832a0898f&q=San Francisco&units=metric'"
      ]
     },
     "execution_count": 2,
     "metadata": {},
     "output_type": "execute_result"
    }
   ],
   "source": [
    "# A. Get our base URL for the Open Weather API\n",
    "base_url = \"http://api.openweathermap.org/data/2.5/weather\"\n",
    "\n",
    "# B. Get our API Key \n",
    "key = \"c703c966f9be8a0c4869b86832a0898f\"\n",
    "\n",
    "# C. Get our query (search filter)\n",
    "query_city = \"San Francisco\"\n",
    "query_units = \"metric\"\n",
    "\n",
    "# D. Combine everything into our final Query URL\n",
    "query_url = base_url + \"?apikey=\" + key + \"&q=\" + query_city + \"&units=\" + query_units\n",
    "\n",
    "# Display our final query url\n",
    "query_url"
   ]
  },
  {
   "cell_type": "code",
   "execution_count": 3,
   "metadata": {},
   "outputs": [
    {
     "data": {
      "text/plain": [
       "<Response [200]>"
      ]
     },
     "execution_count": 3,
     "metadata": {},
     "output_type": "execute_result"
    }
   ],
   "source": [
    "response = req.get(query_url)\n",
    "response"
   ]
  },
  {
   "cell_type": "code",
   "execution_count": 4,
   "metadata": {},
   "outputs": [
    {
     "data": {
      "text/plain": [
       "{'coord': {'lon': -122.42, 'lat': 37.77},\n",
       " 'weather': [{'id': 800,\n",
       "   'main': 'Clear',\n",
       "   'description': 'clear sky',\n",
       "   'icon': '01n'}],\n",
       " 'base': 'stations',\n",
       " 'main': {'temp': 16.22,\n",
       "  'feels_like': 11.36,\n",
       "  'temp_min': 14.44,\n",
       "  'temp_max': 18,\n",
       "  'pressure': 1016,\n",
       "  'humidity': 63},\n",
       " 'visibility': 16093,\n",
       " 'wind': {'speed': 6.7, 'deg': 310, 'gust': 8.7},\n",
       " 'clouds': {'all': 1},\n",
       " 'dt': 1593927669,\n",
       " 'sys': {'type': 1,\n",
       "  'id': 5817,\n",
       "  'country': 'US',\n",
       "  'sunrise': 1593867188,\n",
       "  'sunset': 1593920095},\n",
       " 'timezone': -25200,\n",
       " 'id': 5391959,\n",
       " 'name': 'San Francisco',\n",
       " 'cod': 200}"
      ]
     },
     "execution_count": 4,
     "metadata": {},
     "output_type": "execute_result"
    }
   ],
   "source": [
    "response = response.json()\n",
    "response"
   ]
  },
  {
   "cell_type": "code",
   "execution_count": 5,
   "metadata": {},
   "outputs": [
    {
     "name": "stdout",
     "output_type": "stream",
     "text": [
      "{\n",
      "    \"base\": \"stations\",\n",
      "    \"clouds\": {\n",
      "        \"all\": 1\n",
      "    },\n",
      "    \"cod\": 200,\n",
      "    \"coord\": {\n",
      "        \"lat\": 37.77,\n",
      "        \"lon\": -122.42\n",
      "    },\n",
      "    \"dt\": 1593927669,\n",
      "    \"id\": 5391959,\n",
      "    \"main\": {\n",
      "        \"feels_like\": 11.36,\n",
      "        \"humidity\": 63,\n",
      "        \"pressure\": 1016,\n",
      "        \"temp\": 16.22,\n",
      "        \"temp_max\": 18,\n",
      "        \"temp_min\": 14.44\n",
      "    },\n",
      "    \"name\": \"San Francisco\",\n",
      "    \"sys\": {\n",
      "        \"country\": \"US\",\n",
      "        \"id\": 5817,\n",
      "        \"sunrise\": 1593867188,\n",
      "        \"sunset\": 1593920095,\n",
      "        \"type\": 1\n",
      "    },\n",
      "    \"timezone\": -25200,\n",
      "    \"visibility\": 16093,\n",
      "    \"weather\": [\n",
      "        {\n",
      "            \"description\": \"clear sky\",\n",
      "            \"icon\": \"01n\",\n",
      "            \"id\": 800,\n",
      "            \"main\": \"Clear\"\n",
      "        }\n",
      "    ],\n",
      "    \"wind\": {\n",
      "        \"deg\": 310,\n",
      "        \"gust\": 8.7,\n",
      "        \"speed\": 6.7\n",
      "    }\n",
      "}\n"
     ]
    }
   ],
   "source": [
    "# Using json.dumps() allows you to easily read the response output\n",
    "print(json.dumps(response, indent=4, sort_keys=True))"
   ]
  },
  {
   "cell_type": "code",
   "execution_count": 6,
   "metadata": {},
   "outputs": [
    {
     "name": "stdout",
     "output_type": "stream",
     "text": [
      "The temperature is 16.22\n",
      "The description for the weather is clear sky\n",
      "The speed of the is 6.7\n"
     ]
    }
   ],
   "source": [
    "# Extract the temperature data from our JSON Response\n",
    "temperature = response['main']['temp']\n",
    "print (\"The temperature is \" + str(temperature))\n",
    "\n",
    "# Extract the weather description from our JSON Response\n",
    "weather_description = response['weather'][0]['description']\n",
    "print (\"The description for the weather is \" + weather_description)\n",
    "\n",
    "# Exxtract the wind description from our JSON Response\n",
    "wind_description = response['wind']['speed']\n",
    "print(\"The speed of the is \" +str(wind_description))"
   ]
  },
  {
   "cell_type": "code",
   "execution_count": 7,
   "metadata": {},
   "outputs": [],
   "source": [
    "# A. Get our base URL for the Open Weather API\n",
    "base_url = \"http://api.openweathermap.org/data/2.5/weather\"\n",
    "\n",
    "# B. Get our API Key \n",
    "key = \"c703c966f9be8a0c4869b86832a0898f\"\n",
    "\n",
    "# C. Create an empty list to store our JSON response objects\n",
    "weather_data = []\n",
    "\n",
    "# D. Define the multiple cities we would like to make a request for\n",
    "cities = [\"London\", \"Paris\", \"Las Vegas\", \"Stockholm\", \"Sydney\", \"Hong Kong\"]\n",
    "\n",
    "# E. Read through each city in our cities list and perform a request call to the API.\n",
    "# Store each JSON response object into the list\n",
    "for city in cities:\n",
    "    query_url = base_url + \"?apikey=\" + key + \"&q=\" + city\n",
    "    weather_data.append(req.get(query_url).json())"
   ]
  },
  {
   "cell_type": "code",
   "execution_count": 8,
   "metadata": {},
   "outputs": [
    {
     "data": {
      "text/plain": [
       "[{'coord': {'lon': -0.13, 'lat': 51.51},\n",
       "  'weather': [{'id': 804,\n",
       "    'main': 'Clouds',\n",
       "    'description': 'overcast clouds',\n",
       "    'icon': '04d'}],\n",
       "  'base': 'stations',\n",
       "  'main': {'temp': 290.57,\n",
       "   'feels_like': 285.87,\n",
       "   'temp_min': 289.82,\n",
       "   'temp_max': 291.15,\n",
       "   'pressure': 1008,\n",
       "   'humidity': 77},\n",
       "  'visibility': 10000,\n",
       "  'wind': {'speed': 8.2, 'deg': 240, 'gust': 13.4},\n",
       "  'clouds': {'all': 90},\n",
       "  'dt': 1593927733,\n",
       "  'sys': {'type': 1,\n",
       "   'id': 1414,\n",
       "   'country': 'GB',\n",
       "   'sunrise': 1593921051,\n",
       "   'sunset': 1593980346},\n",
       "  'timezone': 3600,\n",
       "  'id': 2643743,\n",
       "  'name': 'London',\n",
       "  'cod': 200},\n",
       " {'coord': {'lon': 2.35, 'lat': 48.85},\n",
       "  'weather': [{'id': 803,\n",
       "    'main': 'Clouds',\n",
       "    'description': 'broken clouds',\n",
       "    'icon': '04d'}],\n",
       "  'base': 'stations',\n",
       "  'main': {'temp': 291.97,\n",
       "   'feels_like': 289.85,\n",
       "   'temp_min': 291.48,\n",
       "   'temp_max': 292.59,\n",
       "   'pressure': 1017,\n",
       "   'humidity': 82},\n",
       "  'visibility': 10000,\n",
       "  'wind': {'speed': 5.7, 'deg': 240},\n",
       "  'clouds': {'all': 75},\n",
       "  'dt': 1593927592,\n",
       "  'sys': {'type': 1,\n",
       "   'id': 6548,\n",
       "   'country': 'FR',\n",
       "   'sunrise': 1593921247,\n",
       "   'sunset': 1593978960},\n",
       "  'timezone': 7200,\n",
       "  'id': 2988507,\n",
       "  'name': 'Paris',\n",
       "  'cod': 200},\n",
       " {'coord': {'lon': -115.14, 'lat': 36.17},\n",
       "  'weather': [{'id': 800,\n",
       "    'main': 'Clear',\n",
       "    'description': 'clear sky',\n",
       "    'icon': '01n'}],\n",
       "  'base': 'stations',\n",
       "  'main': {'temp': 306.91,\n",
       "   'feels_like': 300.65,\n",
       "   'temp_min': 303.15,\n",
       "   'temp_max': 310.15,\n",
       "   'pressure': 1011,\n",
       "   'humidity': 10},\n",
       "  'visibility': 16093,\n",
       "  'wind': {'speed': 5.7, 'deg': 260},\n",
       "  'clouds': {'all': 1},\n",
       "  'dt': 1593927661,\n",
       "  'sys': {'type': 1,\n",
       "   'id': 6171,\n",
       "   'country': 'US',\n",
       "   'sunrise': 1593865715,\n",
       "   'sunset': 1593918073},\n",
       "  'timezone': -25200,\n",
       "  'id': 5506956,\n",
       "  'name': 'Las Vegas',\n",
       "  'cod': 200},\n",
       " {'coord': {'lon': 18.06, 'lat': 59.33},\n",
       "  'weather': [{'id': 804,\n",
       "    'main': 'Clouds',\n",
       "    'description': 'overcast clouds',\n",
       "    'icon': '04d'}],\n",
       "  'base': 'stations',\n",
       "  'main': {'temp': 288.35,\n",
       "   'feels_like': 288.17,\n",
       "   'temp_min': 287.59,\n",
       "   'temp_max': 289.82,\n",
       "   'pressure': 1001,\n",
       "   'humidity': 93},\n",
       "  'visibility': 10000,\n",
       "  'wind': {'speed': 2.1, 'deg': 80},\n",
       "  'clouds': {'all': 91},\n",
       "  'dt': 1593927443,\n",
       "  'sys': {'type': 1,\n",
       "   'id': 1788,\n",
       "   'country': 'SE',\n",
       "   'sunrise': 1593913322,\n",
       "   'sunset': 1593979343},\n",
       "  'timezone': 7200,\n",
       "  'id': 2673730,\n",
       "  'name': 'Stockholm',\n",
       "  'cod': 200},\n",
       " {'coord': {'lon': 151.21, 'lat': -33.87},\n",
       "  'weather': [{'id': 800,\n",
       "    'main': 'Clear',\n",
       "    'description': 'clear sky',\n",
       "    'icon': '01d'}],\n",
       "  'base': 'stations',\n",
       "  'main': {'temp': 290.11,\n",
       "   'feels_like': 285.79,\n",
       "   'temp_min': 289.26,\n",
       "   'temp_max': 291.48,\n",
       "   'pressure': 1021,\n",
       "   'humidity': 51},\n",
       "  'visibility': 10000,\n",
       "  'wind': {'speed': 5.1, 'deg': 160},\n",
       "  'clouds': {'all': 1},\n",
       "  'dt': 1593927464,\n",
       "  'sys': {'type': 1,\n",
       "   'id': 9600,\n",
       "   'country': 'AU',\n",
       "   'sunrise': 1593896432,\n",
       "   'sunset': 1593932314},\n",
       "  'timezone': 36000,\n",
       "  'id': 2147714,\n",
       "  'name': 'Sydney',\n",
       "  'cod': 200},\n",
       " {'coord': {'lon': 114.16, 'lat': 22.29},\n",
       "  'weather': [{'id': 803,\n",
       "    'main': 'Clouds',\n",
       "    'description': 'broken clouds',\n",
       "    'icon': '04d'}],\n",
       "  'base': 'stations',\n",
       "  'main': {'temp': 305.13,\n",
       "   'feels_like': 307.37,\n",
       "   'temp_min': 304.26,\n",
       "   'temp_max': 307.04,\n",
       "   'pressure': 1006,\n",
       "   'humidity': 62},\n",
       "  'wind': {'speed': 4.92, 'deg': 230},\n",
       "  'clouds': {'all': 72},\n",
       "  'dt': 1593927577,\n",
       "  'sys': {'type': 3,\n",
       "   'id': 47808,\n",
       "   'country': 'HK',\n",
       "   'sunrise': 1593899050,\n",
       "   'sunset': 1593947481},\n",
       "  'timezone': 28800,\n",
       "  'id': 1819729,\n",
       "  'name': 'Hong Kong',\n",
       "  'cod': 200}]"
      ]
     },
     "execution_count": 8,
     "metadata": {},
     "output_type": "execute_result"
    }
   ],
   "source": [
    "# Now our weather_data list contains 6 different JSON objects for each city\n",
    "# Print the first city (London) \n",
    "weather_data"
   ]
  },
  {
   "cell_type": "markdown",
   "metadata": {},
   "source": [
    "RUNNING MULTIPLE QUERIES AND STORING IN PANDAS DATAFRAME"
   ]
  },
  {
   "cell_type": "code",
   "execution_count": 9,
   "metadata": {},
   "outputs": [
    {
     "name": "stdout",
     "output_type": "stream",
     "text": [
      "The City Name List: ['London', 'Paris', 'Las Vegas', 'Stockholm', 'Sydney', 'Hong Kong']\n",
      "The Temperature List: [290.57, 291.97, 306.91, 288.35, 290.11, 305.13]\n",
      "The Weather Description List: ['overcast clouds', 'broken clouds', 'clear sky', 'overcast clouds', 'clear sky', 'broken clouds']\n"
     ]
    }
   ],
   "source": [
    "# Create an empty list for each variable\n",
    "city_name = []\n",
    "temperature_data = []\n",
    "weather_description_data = []\n",
    "\n",
    "# Extract the city name, temperature, and weather description of each City\n",
    "for data in weather_data:\n",
    "    city_name.append(data['name'])\n",
    "    temperature_data.append(data['main']['temp'])\n",
    "    weather_description_data.append(data['weather'][0]['description'])\n",
    "\n",
    "# Print out the list to make sure the queries were extracted \n",
    "print (\"The City Name List: \" + str(city_name))\n",
    "print (\"The Temperature List: \" + str(temperature_data))\n",
    "print (\"The Weather Description List: \" + str(weather_description_data))"
   ]
  },
  {
   "cell_type": "markdown",
   "metadata": {},
   "source": [
    "LIST COMPREHENSION"
   ]
  },
  {
   "cell_type": "code",
   "execution_count": 10,
   "metadata": {},
   "outputs": [
    {
     "name": "stdout",
     "output_type": "stream",
     "text": [
      "The City Name List: ['London', 'Paris', 'Las Vegas', 'Stockholm', 'Sydney', 'Hong Kong']\n",
      "The Temperature List: [290.57, 291.97, 306.91, 288.35, 290.11, 305.13]\n",
      "The Weather Description List: ['overcast clouds', 'broken clouds', 'clear sky', 'overcast clouds', 'clear sky', 'broken clouds']\n"
     ]
    }
   ],
   "source": [
    "# Extract the city name, temperature, and weather description of each City\n",
    "city_name = [data['name'] for data in weather_data]\n",
    "temperature_data = [data['main']['temp'] for data in weather_data]\n",
    "weather_description_data = [data['weather'][0]['description'] for data in weather_data]\n",
    "\n",
    "# Print out the list to make sure the queries were extracted \n",
    "print (\"The City Name List: \" + str(city_name))\n",
    "print (\"The Temperature List: \" + str(temperature_data))\n",
    "print (\"The Weather Description List: \" + str(weather_description_data))"
   ]
  },
  {
   "cell_type": "markdown",
   "metadata": {},
   "source": [
    "Creating a Dictionary"
   ]
  },
  {
   "cell_type": "code",
   "execution_count": 11,
   "metadata": {},
   "outputs": [],
   "source": [
    "# Create a dictionary containing our newly extracted information\n",
    "weather_data = {\"City\": city_name, \n",
    "                \"Temperature\": temperature_data,\n",
    "                \"Weather Description\": weather_description_data}"
   ]
  },
  {
   "cell_type": "code",
   "execution_count": 12,
   "metadata": {},
   "outputs": [
    {
     "data": {
      "text/html": [
       "<div>\n",
       "<style scoped>\n",
       "    .dataframe tbody tr th:only-of-type {\n",
       "        vertical-align: middle;\n",
       "    }\n",
       "\n",
       "    .dataframe tbody tr th {\n",
       "        vertical-align: top;\n",
       "    }\n",
       "\n",
       "    .dataframe thead th {\n",
       "        text-align: right;\n",
       "    }\n",
       "</style>\n",
       "<table border=\"1\" class=\"dataframe\">\n",
       "  <thead>\n",
       "    <tr style=\"text-align: right;\">\n",
       "      <th></th>\n",
       "      <th>index</th>\n",
       "      <th>City</th>\n",
       "      <th>Temperature</th>\n",
       "      <th>Weather Description</th>\n",
       "    </tr>\n",
       "  </thead>\n",
       "  <tbody>\n",
       "    <tr>\n",
       "      <th>0</th>\n",
       "      <td>0</td>\n",
       "      <td>London</td>\n",
       "      <td>290.57</td>\n",
       "      <td>overcast clouds</td>\n",
       "    </tr>\n",
       "    <tr>\n",
       "      <th>1</th>\n",
       "      <td>1</td>\n",
       "      <td>Paris</td>\n",
       "      <td>291.97</td>\n",
       "      <td>broken clouds</td>\n",
       "    </tr>\n",
       "    <tr>\n",
       "      <th>2</th>\n",
       "      <td>2</td>\n",
       "      <td>Las Vegas</td>\n",
       "      <td>306.91</td>\n",
       "      <td>clear sky</td>\n",
       "    </tr>\n",
       "    <tr>\n",
       "      <th>3</th>\n",
       "      <td>3</td>\n",
       "      <td>Stockholm</td>\n",
       "      <td>288.35</td>\n",
       "      <td>overcast clouds</td>\n",
       "    </tr>\n",
       "    <tr>\n",
       "      <th>4</th>\n",
       "      <td>4</td>\n",
       "      <td>Sydney</td>\n",
       "      <td>290.11</td>\n",
       "      <td>clear sky</td>\n",
       "    </tr>\n",
       "    <tr>\n",
       "      <th>5</th>\n",
       "      <td>5</td>\n",
       "      <td>Hong Kong</td>\n",
       "      <td>305.13</td>\n",
       "      <td>broken clouds</td>\n",
       "    </tr>\n",
       "  </tbody>\n",
       "</table>\n",
       "</div>"
      ],
      "text/plain": [
       "   index       City  Temperature Weather Description\n",
       "0      0     London       290.57     overcast clouds\n",
       "1      1      Paris       291.97       broken clouds\n",
       "2      2  Las Vegas       306.91           clear sky\n",
       "3      3  Stockholm       288.35     overcast clouds\n",
       "4      4     Sydney       290.11           clear sky\n",
       "5      5  Hong Kong       305.13       broken clouds"
      ]
     },
     "execution_count": 12,
     "metadata": {},
     "output_type": "execute_result"
    }
   ],
   "source": [
    "# Convert our dictionary into a Pandas Data Frame\n",
    "weather_data = pd.DataFrame(weather_data).reset_index()\n",
    "weather_data"
   ]
  }
 ],
 "metadata": {
  "kernelspec": {
   "display_name": "Python 3",
   "language": "python",
   "name": "python3"
  },
  "language_info": {
   "codemirror_mode": {
    "name": "ipython",
    "version": 3
   },
   "file_extension": ".py",
   "mimetype": "text/x-python",
   "name": "python",
   "nbconvert_exporter": "python",
   "pygments_lexer": "ipython3",
   "version": "3.7.0"
  }
 },
 "nbformat": 4,
 "nbformat_minor": 2
}
